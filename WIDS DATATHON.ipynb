{
 "cells": [
  {
   "cell_type": "code",
   "execution_count": 1,
   "metadata": {},
   "outputs": [
    {
     "name": "stdout",
     "output_type": "stream",
     "text": [
      "Requirement already satisfied: missingno in c:\\users\\amitm\\anaconda3\\lib\\site-packages (0.4.2)Note: you may need to restart the kernel to use updated packages.\n",
      "Requirement already satisfied: matplotlib in c:\\users\\amitm\\anaconda3\\lib\\site-packages (from missingno) (3.2.2)\n",
      "Requirement already satisfied: scipy in c:\\users\\amitm\\anaconda3\\lib\\site-packages (from missingno) (1.5.0)\n",
      "Requirement already satisfied: seaborn in c:\\users\\amitm\\anaconda3\\lib\\site-packages (from missingno) (0.10.1)\n",
      "Requirement already satisfied: numpy in c:\\users\\amitm\\anaconda3\\lib\\site-packages (from missingno) (1.18.5)\n",
      "Requirement already satisfied: cycler>=0.10 in c:\\users\\amitm\\anaconda3\\lib\\site-packages (from matplotlib->missingno) (0.10.0)\n",
      "Requirement already satisfied: pyparsing!=2.0.4,!=2.1.2,!=2.1.6,>=2.0.1 in c:\\users\\amitm\\anaconda3\\lib\\site-packages (from matplotlib->missingno) (2.4.7)\n",
      "Requirement already satisfied: python-dateutil>=2.1 in c:\\users\\amitm\\anaconda3\\lib\\site-packages (from matplotlib->missingno) (2.8.1)\n",
      "Requirement already satisfied: kiwisolver>=1.0.1 in c:\\users\\amitm\\anaconda3\\lib\\site-packages (from matplotlib->missingno) (1.2.0)\n",
      "Requirement already satisfied: pandas>=0.22.0 in c:\\users\\amitm\\anaconda3\\lib\\site-packages (from seaborn->missingno) (1.0.5)\n",
      "Requirement already satisfied: six in c:\\users\\amitm\\anaconda3\\lib\\site-packages (from cycler>=0.10->matplotlib->missingno) (1.15.0)\n",
      "Requirement already satisfied: pytz>=2017.2 in c:\\users\\amitm\\anaconda3\\lib\\site-packages (from pandas>=0.22.0->seaborn->missingno) (2020.1)\n",
      "\n"
     ]
    }
   ],
   "source": [
    "pip install missingno"
   ]
  },
  {
   "cell_type": "code",
   "execution_count": 2,
   "metadata": {},
   "outputs": [],
   "source": [
    "import pandas as pd\n",
    "import numpy as np\n",
    "import matplotlib.pyplot as plt\n",
    "import seaborn as sns\n",
    "import missingno as msno"
   ]
  },
  {
   "cell_type": "code",
   "execution_count": 3,
   "metadata": {},
   "outputs": [],
   "source": [
    "pd.set_option('display.max_rows', None)\n",
    "pd.set_option('display.max_columns', None)\n",
    "df = pd.read_csv(\"TrainingWiDS2021.csv\")"
   ]
  },
  {
   "cell_type": "markdown",
   "metadata": {},
   "source": [
    "### Exploratory Data Analysis"
   ]
  },
  {
   "cell_type": "code",
   "execution_count": 4,
   "metadata": {},
   "outputs": [
    {
     "data": {
      "text/plain": [
       "(130157, 181)"
      ]
     },
     "execution_count": 4,
     "metadata": {},
     "output_type": "execute_result"
    }
   ],
   "source": [
    "df.shape"
   ]
  },
  {
   "cell_type": "code",
   "execution_count": 39,
   "metadata": {},
   "outputs": [],
   "source": [
    "#df.head()"
   ]
  },
  {
   "cell_type": "code",
   "execution_count": 38,
   "metadata": {},
   "outputs": [],
   "source": [
    "#df.describe().T"
   ]
  },
  {
   "cell_type": "code",
   "execution_count": 7,
   "metadata": {},
   "outputs": [],
   "source": [
    "# drop columns that are not necessary\n",
    "# readmission_status is 0 for all records \n",
    "df.drop(['Unnamed: 0','readmission_status','encounter_id','hospital_id', 'icu_id'], axis=1,inplace=True)"
   ]
  },
  {
   "cell_type": "code",
   "execution_count": 8,
   "metadata": {},
   "outputs": [],
   "source": [
    "## Separate Categorical, numercial variables\n",
    "#features = [c for c in df.columns if c not in [ID_COL, ID_COL1,ID_COL2, TARGET_COL]]\n",
    "\n",
    "#cat_cols =  ['ethnicity',\n",
    "#            'gender',\n",
    "#            'hospital_admit_source',\n",
    "#            'icu_admit_source',\n",
    "#            'icu_stay_type',\n",
    "#            'icu_type']\n",
    "\n",
    "#num_cols = [c for c in features if c not in cat_cols]"
   ]
  },
  {
   "cell_type": "code",
   "execution_count": 9,
   "metadata": {},
   "outputs": [
    {
     "data": {
      "text/plain": [
       "(130157, 176)"
      ]
     },
     "execution_count": 9,
     "metadata": {},
     "output_type": "execute_result"
    }
   ],
   "source": [
    "df.shape"
   ]
  },
  {
   "cell_type": "markdown",
   "metadata": {},
   "source": [
    "## Handle Missing values"
   ]
  },
  {
   "cell_type": "code",
   "execution_count": 10,
   "metadata": {},
   "outputs": [
    {
     "data": {
      "text/plain": [
       "8018193"
      ]
     },
     "execution_count": 10,
     "metadata": {},
     "output_type": "execute_result"
    }
   ],
   "source": [
    "# check for null values\n",
    "df.isnull().sum().sum()"
   ]
  },
  {
   "cell_type": "code",
   "execution_count": 11,
   "metadata": {},
   "outputs": [
    {
     "data": {
      "text/plain": [
       "35.00227784347156"
      ]
     },
     "execution_count": 11,
     "metadata": {},
     "output_type": "execute_result"
    }
   ],
   "source": [
    "null_percentage=(df.isnull().sum().sum()/df.size)*100\n",
    "null_percentage"
   ]
  },
  {
   "cell_type": "code",
   "execution_count": 40,
   "metadata": {},
   "outputs": [
    {
     "data": {
      "text/html": [
       "<div>\n",
       "<style scoped>\n",
       "    .dataframe tbody tr th:only-of-type {\n",
       "        vertical-align: middle;\n",
       "    }\n",
       "\n",
       "    .dataframe tbody tr th {\n",
       "        vertical-align: top;\n",
       "    }\n",
       "\n",
       "    .dataframe thead th {\n",
       "        text-align: right;\n",
       "    }\n",
       "</style>\n",
       "<table border=\"1\" class=\"dataframe\">\n",
       "  <thead>\n",
       "    <tr style=\"text-align: right;\">\n",
       "      <th></th>\n",
       "      <th>percentage</th>\n",
       "    </tr>\n",
       "  </thead>\n",
       "  <tbody>\n",
       "    <tr>\n",
       "      <th>h1_temp_max</th>\n",
       "      <td>21.65</td>\n",
       "    </tr>\n",
       "    <tr>\n",
       "      <th>h1_temp_min</th>\n",
       "      <td>21.65</td>\n",
       "    </tr>\n",
       "    <tr>\n",
       "      <th>wbc_apache</th>\n",
       "      <td>17.99</td>\n",
       "    </tr>\n",
       "    <tr>\n",
       "      <th>hematocrit_apache</th>\n",
       "      <td>15.87</td>\n",
       "    </tr>\n",
       "    <tr>\n",
       "      <th>bun_apache</th>\n",
       "      <td>14.65</td>\n",
       "    </tr>\n",
       "    <tr>\n",
       "      <th>creatinine_apache</th>\n",
       "      <td>14.24</td>\n",
       "    </tr>\n",
       "    <tr>\n",
       "      <th>sodium_apache</th>\n",
       "      <td>13.94</td>\n",
       "    </tr>\n",
       "    <tr>\n",
       "      <th>d1_hco3_min</th>\n",
       "      <td>10.35</td>\n",
       "    </tr>\n",
       "    <tr>\n",
       "      <th>d1_hco3_max</th>\n",
       "      <td>10.35</td>\n",
       "    </tr>\n",
       "    <tr>\n",
       "      <th>h1_mbp_noninvasive_min</th>\n",
       "      <td>9.52</td>\n",
       "    </tr>\n",
       "    <tr>\n",
       "      <th>h1_mbp_noninvasive_max</th>\n",
       "      <td>9.52</td>\n",
       "    </tr>\n",
       "    <tr>\n",
       "      <th>d1_platelets_max</th>\n",
       "      <td>9.26</td>\n",
       "    </tr>\n",
       "    <tr>\n",
       "      <th>d1_platelets_min</th>\n",
       "      <td>9.26</td>\n",
       "    </tr>\n",
       "    <tr>\n",
       "      <th>d1_wbc_min</th>\n",
       "      <td>8.35</td>\n",
       "    </tr>\n",
       "    <tr>\n",
       "      <th>d1_wbc_max</th>\n",
       "      <td>8.35</td>\n",
       "    </tr>\n",
       "    <tr>\n",
       "      <th>h1_diasbp_noninvasive_min</th>\n",
       "      <td>8.05</td>\n",
       "    </tr>\n",
       "    <tr>\n",
       "      <th>h1_diasbp_noninvasive_max</th>\n",
       "      <td>8.05</td>\n",
       "    </tr>\n",
       "    <tr>\n",
       "      <th>h1_sysbp_noninvasive_max</th>\n",
       "      <td>8.04</td>\n",
       "    </tr>\n",
       "    <tr>\n",
       "      <th>h1_sysbp_noninvasive_min</th>\n",
       "      <td>8.04</td>\n",
       "    </tr>\n",
       "    <tr>\n",
       "      <th>d1_calcium_min</th>\n",
       "      <td>7.66</td>\n",
       "    </tr>\n",
       "    <tr>\n",
       "      <th>d1_calcium_max</th>\n",
       "      <td>7.66</td>\n",
       "    </tr>\n",
       "    <tr>\n",
       "      <th>d1_hemaglobin_max</th>\n",
       "      <td>7.46</td>\n",
       "    </tr>\n",
       "    <tr>\n",
       "      <th>d1_hemaglobin_min</th>\n",
       "      <td>7.46</td>\n",
       "    </tr>\n",
       "    <tr>\n",
       "      <th>d1_hematocrit_max</th>\n",
       "      <td>6.95</td>\n",
       "    </tr>\n",
       "    <tr>\n",
       "      <th>d1_hematocrit_min</th>\n",
       "      <td>6.95</td>\n",
       "    </tr>\n",
       "    <tr>\n",
       "      <th>glucose_apache</th>\n",
       "      <td>6.84</td>\n",
       "    </tr>\n",
       "    <tr>\n",
       "      <th>d1_bun_max</th>\n",
       "      <td>5.32</td>\n",
       "    </tr>\n",
       "    <tr>\n",
       "      <th>d1_bun_min</th>\n",
       "      <td>5.32</td>\n",
       "    </tr>\n",
       "    <tr>\n",
       "      <th>d1_sodium_min</th>\n",
       "      <td>4.97</td>\n",
       "    </tr>\n",
       "    <tr>\n",
       "      <th>d1_creatinine_min</th>\n",
       "      <td>4.97</td>\n",
       "    </tr>\n",
       "    <tr>\n",
       "      <th>d1_creatinine_max</th>\n",
       "      <td>4.97</td>\n",
       "    </tr>\n",
       "    <tr>\n",
       "      <th>d1_sodium_max</th>\n",
       "      <td>4.97</td>\n",
       "    </tr>\n",
       "    <tr>\n",
       "      <th>temp_apache</th>\n",
       "      <td>4.55</td>\n",
       "    </tr>\n",
       "    <tr>\n",
       "      <th>d1_potassium_max</th>\n",
       "      <td>4.49</td>\n",
       "    </tr>\n",
       "    <tr>\n",
       "      <th>d1_potassium_min</th>\n",
       "      <td>4.49</td>\n",
       "    </tr>\n",
       "    <tr>\n",
       "      <th>h1_resprate_min</th>\n",
       "      <td>4.13</td>\n",
       "    </tr>\n",
       "    <tr>\n",
       "      <th>h1_resprate_max</th>\n",
       "      <td>4.13</td>\n",
       "    </tr>\n",
       "    <tr>\n",
       "      <th>h1_mbp_min</th>\n",
       "      <td>4.06</td>\n",
       "    </tr>\n",
       "    <tr>\n",
       "      <th>h1_mbp_max</th>\n",
       "      <td>4.06</td>\n",
       "    </tr>\n",
       "    <tr>\n",
       "      <th>h1_spo2_min</th>\n",
       "      <td>3.99</td>\n",
       "    </tr>\n",
       "    <tr>\n",
       "      <th>h1_spo2_max</th>\n",
       "      <td>3.99</td>\n",
       "    </tr>\n",
       "    <tr>\n",
       "      <th>h1_sysbp_max</th>\n",
       "      <td>3.37</td>\n",
       "    </tr>\n",
       "    <tr>\n",
       "      <th>h1_diasbp_min</th>\n",
       "      <td>3.37</td>\n",
       "    </tr>\n",
       "    <tr>\n",
       "      <th>h1_diasbp_max</th>\n",
       "      <td>3.37</td>\n",
       "    </tr>\n",
       "    <tr>\n",
       "      <th>h1_sysbp_min</th>\n",
       "      <td>3.37</td>\n",
       "    </tr>\n",
       "    <tr>\n",
       "      <th>bmi</th>\n",
       "      <td>3.09</td>\n",
       "    </tr>\n",
       "    <tr>\n",
       "      <th>d1_temp_max</th>\n",
       "      <td>3.01</td>\n",
       "    </tr>\n",
       "    <tr>\n",
       "      <th>d1_temp_min</th>\n",
       "      <td>3.01</td>\n",
       "    </tr>\n",
       "    <tr>\n",
       "      <th>h1_heartrate_max</th>\n",
       "      <td>2.38</td>\n",
       "    </tr>\n",
       "    <tr>\n",
       "      <th>h1_heartrate_min</th>\n",
       "      <td>2.38</td>\n",
       "    </tr>\n",
       "    <tr>\n",
       "      <th>weight</th>\n",
       "      <td>2.37</td>\n",
       "    </tr>\n",
       "    <tr>\n",
       "      <th>d1_glucose_min</th>\n",
       "      <td>1.98</td>\n",
       "    </tr>\n",
       "    <tr>\n",
       "      <th>d1_glucose_max</th>\n",
       "      <td>1.98</td>\n",
       "    </tr>\n",
       "    <tr>\n",
       "      <th>gcs_eyes_apache</th>\n",
       "      <td>1.53</td>\n",
       "    </tr>\n",
       "    <tr>\n",
       "      <th>gcs_motor_apache</th>\n",
       "      <td>1.53</td>\n",
       "    </tr>\n",
       "    <tr>\n",
       "      <th>gcs_verbal_apache</th>\n",
       "      <td>1.53</td>\n",
       "    </tr>\n",
       "    <tr>\n",
       "      <th>d1_mbp_noninvasive_min</th>\n",
       "      <td>1.49</td>\n",
       "    </tr>\n",
       "    <tr>\n",
       "      <th>d1_mbp_noninvasive_max</th>\n",
       "      <td>1.49</td>\n",
       "    </tr>\n",
       "    <tr>\n",
       "      <th>height</th>\n",
       "      <td>1.31</td>\n",
       "    </tr>\n",
       "    <tr>\n",
       "      <th>ethnicity</th>\n",
       "      <td>1.09</td>\n",
       "    </tr>\n",
       "    <tr>\n",
       "      <th>apache_2_diagnosis</th>\n",
       "      <td>1.04</td>\n",
       "    </tr>\n",
       "    <tr>\n",
       "      <th>d1_diasbp_noninvasive_max</th>\n",
       "      <td>1.03</td>\n",
       "    </tr>\n",
       "    <tr>\n",
       "      <th>d1_diasbp_noninvasive_min</th>\n",
       "      <td>1.03</td>\n",
       "    </tr>\n",
       "    <tr>\n",
       "      <th>d1_sysbp_noninvasive_max</th>\n",
       "      <td>1.02</td>\n",
       "    </tr>\n",
       "    <tr>\n",
       "      <th>d1_sysbp_noninvasive_min</th>\n",
       "      <td>1.02</td>\n",
       "    </tr>\n",
       "    <tr>\n",
       "      <th>apache_3j_diagnosis</th>\n",
       "      <td>0.44</td>\n",
       "    </tr>\n",
       "    <tr>\n",
       "      <th>resprate_apache</th>\n",
       "      <td>0.39</td>\n",
       "    </tr>\n",
       "    <tr>\n",
       "      <th>gcs_unable_apache</th>\n",
       "      <td>0.36</td>\n",
       "    </tr>\n",
       "    <tr>\n",
       "      <th>d1_resprate_max</th>\n",
       "      <td>0.30</td>\n",
       "    </tr>\n",
       "    <tr>\n",
       "      <th>d1_resprate_min</th>\n",
       "      <td>0.30</td>\n",
       "    </tr>\n",
       "    <tr>\n",
       "      <th>d1_spo2_max</th>\n",
       "      <td>0.19</td>\n",
       "    </tr>\n",
       "    <tr>\n",
       "      <th>d1_spo2_min</th>\n",
       "      <td>0.19</td>\n",
       "    </tr>\n",
       "    <tr>\n",
       "      <th>icu_admit_source</th>\n",
       "      <td>0.13</td>\n",
       "    </tr>\n",
       "    <tr>\n",
       "      <th>map_apache</th>\n",
       "      <td>0.09</td>\n",
       "    </tr>\n",
       "    <tr>\n",
       "      <th>heart_rate_apache</th>\n",
       "      <td>0.05</td>\n",
       "    </tr>\n",
       "    <tr>\n",
       "      <th>d1_mbp_max</th>\n",
       "      <td>0.04</td>\n",
       "    </tr>\n",
       "    <tr>\n",
       "      <th>d1_mbp_min</th>\n",
       "      <td>0.04</td>\n",
       "    </tr>\n",
       "    <tr>\n",
       "      <th>d1_heartrate_max</th>\n",
       "      <td>0.03</td>\n",
       "    </tr>\n",
       "    <tr>\n",
       "      <th>d1_heartrate_min</th>\n",
       "      <td>0.03</td>\n",
       "    </tr>\n",
       "    <tr>\n",
       "      <th>d1_sysbp_max</th>\n",
       "      <td>0.02</td>\n",
       "    </tr>\n",
       "    <tr>\n",
       "      <th>d1_diasbp_max</th>\n",
       "      <td>0.02</td>\n",
       "    </tr>\n",
       "    <tr>\n",
       "      <th>d1_diasbp_min</th>\n",
       "      <td>0.02</td>\n",
       "    </tr>\n",
       "    <tr>\n",
       "      <th>d1_sysbp_min</th>\n",
       "      <td>0.02</td>\n",
       "    </tr>\n",
       "    <tr>\n",
       "      <th>gender</th>\n",
       "      <td>0.01</td>\n",
       "    </tr>\n",
       "    <tr>\n",
       "      <th>hepatic_failure</th>\n",
       "      <td>0.00</td>\n",
       "    </tr>\n",
       "    <tr>\n",
       "      <th>cirrhosis</th>\n",
       "      <td>0.00</td>\n",
       "    </tr>\n",
       "    <tr>\n",
       "      <th>immunosuppression</th>\n",
       "      <td>0.00</td>\n",
       "    </tr>\n",
       "    <tr>\n",
       "      <th>leukemia</th>\n",
       "      <td>0.00</td>\n",
       "    </tr>\n",
       "    <tr>\n",
       "      <th>lymphoma</th>\n",
       "      <td>0.00</td>\n",
       "    </tr>\n",
       "    <tr>\n",
       "      <th>solid_tumor_with_metastasis</th>\n",
       "      <td>0.00</td>\n",
       "    </tr>\n",
       "    <tr>\n",
       "      <th>aids</th>\n",
       "      <td>0.00</td>\n",
       "    </tr>\n",
       "    <tr>\n",
       "      <th>age</th>\n",
       "      <td>0.00</td>\n",
       "    </tr>\n",
       "    <tr>\n",
       "      <th>ventilated_apache</th>\n",
       "      <td>0.00</td>\n",
       "    </tr>\n",
       "    <tr>\n",
       "      <th>intubated_apache</th>\n",
       "      <td>0.00</td>\n",
       "    </tr>\n",
       "    <tr>\n",
       "      <th>arf_apache</th>\n",
       "      <td>0.00</td>\n",
       "    </tr>\n",
       "    <tr>\n",
       "      <th>apache_post_operative</th>\n",
       "      <td>0.00</td>\n",
       "    </tr>\n",
       "    <tr>\n",
       "      <th>pre_icu_los_days</th>\n",
       "      <td>0.00</td>\n",
       "    </tr>\n",
       "    <tr>\n",
       "      <th>icu_type</th>\n",
       "      <td>0.00</td>\n",
       "    </tr>\n",
       "    <tr>\n",
       "      <th>icu_stay_type</th>\n",
       "      <td>0.00</td>\n",
       "    </tr>\n",
       "    <tr>\n",
       "      <th>elective_surgery</th>\n",
       "      <td>0.00</td>\n",
       "    </tr>\n",
       "    <tr>\n",
       "      <th>diabetes_mellitus</th>\n",
       "      <td>0.00</td>\n",
       "    </tr>\n",
       "  </tbody>\n",
       "</table>\n",
       "</div>"
      ],
      "text/plain": [
       "                             percentage\n",
       "h1_temp_max                       21.65\n",
       "h1_temp_min                       21.65\n",
       "wbc_apache                        17.99\n",
       "hematocrit_apache                 15.87\n",
       "bun_apache                        14.65\n",
       "creatinine_apache                 14.24\n",
       "sodium_apache                     13.94\n",
       "d1_hco3_min                       10.35\n",
       "d1_hco3_max                       10.35\n",
       "h1_mbp_noninvasive_min             9.52\n",
       "h1_mbp_noninvasive_max             9.52\n",
       "d1_platelets_max                   9.26\n",
       "d1_platelets_min                   9.26\n",
       "d1_wbc_min                         8.35\n",
       "d1_wbc_max                         8.35\n",
       "h1_diasbp_noninvasive_min          8.05\n",
       "h1_diasbp_noninvasive_max          8.05\n",
       "h1_sysbp_noninvasive_max           8.04\n",
       "h1_sysbp_noninvasive_min           8.04\n",
       "d1_calcium_min                     7.66\n",
       "d1_calcium_max                     7.66\n",
       "d1_hemaglobin_max                  7.46\n",
       "d1_hemaglobin_min                  7.46\n",
       "d1_hematocrit_max                  6.95\n",
       "d1_hematocrit_min                  6.95\n",
       "glucose_apache                     6.84\n",
       "d1_bun_max                         5.32\n",
       "d1_bun_min                         5.32\n",
       "d1_sodium_min                      4.97\n",
       "d1_creatinine_min                  4.97\n",
       "d1_creatinine_max                  4.97\n",
       "d1_sodium_max                      4.97\n",
       "temp_apache                        4.55\n",
       "d1_potassium_max                   4.49\n",
       "d1_potassium_min                   4.49\n",
       "h1_resprate_min                    4.13\n",
       "h1_resprate_max                    4.13\n",
       "h1_mbp_min                         4.06\n",
       "h1_mbp_max                         4.06\n",
       "h1_spo2_min                        3.99\n",
       "h1_spo2_max                        3.99\n",
       "h1_sysbp_max                       3.37\n",
       "h1_diasbp_min                      3.37\n",
       "h1_diasbp_max                      3.37\n",
       "h1_sysbp_min                       3.37\n",
       "bmi                                3.09\n",
       "d1_temp_max                        3.01\n",
       "d1_temp_min                        3.01\n",
       "h1_heartrate_max                   2.38\n",
       "h1_heartrate_min                   2.38\n",
       "weight                             2.37\n",
       "d1_glucose_min                     1.98\n",
       "d1_glucose_max                     1.98\n",
       "gcs_eyes_apache                    1.53\n",
       "gcs_motor_apache                   1.53\n",
       "gcs_verbal_apache                  1.53\n",
       "d1_mbp_noninvasive_min             1.49\n",
       "d1_mbp_noninvasive_max             1.49\n",
       "height                             1.31\n",
       "ethnicity                          1.09\n",
       "apache_2_diagnosis                 1.04\n",
       "d1_diasbp_noninvasive_max          1.03\n",
       "d1_diasbp_noninvasive_min          1.03\n",
       "d1_sysbp_noninvasive_max           1.02\n",
       "d1_sysbp_noninvasive_min           1.02\n",
       "apache_3j_diagnosis                0.44\n",
       "resprate_apache                    0.39\n",
       "gcs_unable_apache                  0.36\n",
       "d1_resprate_max                    0.30\n",
       "d1_resprate_min                    0.30\n",
       "d1_spo2_max                        0.19\n",
       "d1_spo2_min                        0.19\n",
       "icu_admit_source                   0.13\n",
       "map_apache                         0.09\n",
       "heart_rate_apache                  0.05\n",
       "d1_mbp_max                         0.04\n",
       "d1_mbp_min                         0.04\n",
       "d1_heartrate_max                   0.03\n",
       "d1_heartrate_min                   0.03\n",
       "d1_sysbp_max                       0.02\n",
       "d1_diasbp_max                      0.02\n",
       "d1_diasbp_min                      0.02\n",
       "d1_sysbp_min                       0.02\n",
       "gender                             0.01\n",
       "hepatic_failure                    0.00\n",
       "cirrhosis                          0.00\n",
       "immunosuppression                  0.00\n",
       "leukemia                           0.00\n",
       "lymphoma                           0.00\n",
       "solid_tumor_with_metastasis        0.00\n",
       "aids                               0.00\n",
       "age                                0.00\n",
       "ventilated_apache                  0.00\n",
       "intubated_apache                   0.00\n",
       "arf_apache                         0.00\n",
       "apache_post_operative              0.00\n",
       "pre_icu_los_days                   0.00\n",
       "icu_type                           0.00\n",
       "icu_stay_type                      0.00\n",
       "elective_surgery                   0.00\n",
       "diabetes_mellitus                  0.00"
      ]
     },
     "execution_count": 40,
     "metadata": {},
     "output_type": "execute_result"
    }
   ],
   "source": [
    "# Calculate the % of null values for each column\n",
    "null_values = pd.DataFrame((df.isna().mean().round(4) * 100),columns=['percentage'])\n",
    "null_values.sort_values('percentage',ascending=False)"
   ]
  },
  {
   "cell_type": "code",
   "execution_count": 41,
   "metadata": {},
   "outputs": [],
   "source": [
    "# Drop columns with over 75% of null values\n",
    "col_threshold = df.shape[0] * .75\n",
    "df = df.dropna(axis=1,thresh=threshold)"
   ]
  },
  {
   "cell_type": "code",
   "execution_count": 45,
   "metadata": {},
   "outputs": [
    {
     "data": {
      "text/plain": [
       "(117655, 101)"
      ]
     },
     "execution_count": 45,
     "metadata": {},
     "output_type": "execute_result"
    }
   ],
   "source": [
    "df.shape"
   ]
  },
  {
   "cell_type": "code",
   "execution_count": 46,
   "metadata": {},
   "outputs": [],
   "source": [
    "# Drop rows with over 75% null values\n",
    "row_threshhold = df.shape[1] * .75\n",
    "df = df.dropna(axis=0,thresh=row_threshhold)"
   ]
  },
  {
   "cell_type": "code",
   "execution_count": 47,
   "metadata": {},
   "outputs": [
    {
     "data": {
      "text/plain": [
       "(117655, 101)"
      ]
     },
     "execution_count": 47,
     "metadata": {},
     "output_type": "execute_result"
    }
   ],
   "source": [
    "df.shape"
   ]
  },
  {
   "cell_type": "markdown",
   "metadata": {},
   "source": [
    "### 87,377 null values are still in the dataset"
   ]
  },
  {
   "cell_type": "code",
   "execution_count": 20,
   "metadata": {},
   "outputs": [],
   "source": [
    "null_values = pd.DataFrame((df.isna().mean().round(4)*100),columns=['percentage'])"
   ]
  },
  {
   "cell_type": "code",
   "execution_count": 21,
   "metadata": {},
   "outputs": [
    {
     "data": {
      "text/html": [
       "<div>\n",
       "<style scoped>\n",
       "    .dataframe tbody tr th:only-of-type {\n",
       "        vertical-align: middle;\n",
       "    }\n",
       "\n",
       "    .dataframe tbody tr th {\n",
       "        vertical-align: top;\n",
       "    }\n",
       "\n",
       "    .dataframe thead th {\n",
       "        text-align: right;\n",
       "    }\n",
       "</style>\n",
       "<table border=\"1\" class=\"dataframe\">\n",
       "  <thead>\n",
       "    <tr style=\"text-align: right;\">\n",
       "      <th></th>\n",
       "      <th>percentage</th>\n",
       "    </tr>\n",
       "  </thead>\n",
       "  <tbody>\n",
       "    <tr>\n",
       "      <th>h1_temp_max</th>\n",
       "      <td>21.74</td>\n",
       "    </tr>\n",
       "    <tr>\n",
       "      <th>h1_temp_min</th>\n",
       "      <td>21.74</td>\n",
       "    </tr>\n",
       "    <tr>\n",
       "      <th>wbc_apache</th>\n",
       "      <td>18.01</td>\n",
       "    </tr>\n",
       "    <tr>\n",
       "      <th>hematocrit_apache</th>\n",
       "      <td>15.86</td>\n",
       "    </tr>\n",
       "    <tr>\n",
       "      <th>bun_apache</th>\n",
       "      <td>14.66</td>\n",
       "    </tr>\n",
       "    <tr>\n",
       "      <th>creatinine_apache</th>\n",
       "      <td>14.26</td>\n",
       "    </tr>\n",
       "    <tr>\n",
       "      <th>sodium_apache</th>\n",
       "      <td>13.97</td>\n",
       "    </tr>\n",
       "    <tr>\n",
       "      <th>d1_hco3_min</th>\n",
       "      <td>10.38</td>\n",
       "    </tr>\n",
       "    <tr>\n",
       "      <th>d1_hco3_max</th>\n",
       "      <td>10.38</td>\n",
       "    </tr>\n",
       "    <tr>\n",
       "      <th>h1_mbp_noninvasive_min</th>\n",
       "      <td>9.42</td>\n",
       "    </tr>\n",
       "    <tr>\n",
       "      <th>h1_mbp_noninvasive_max</th>\n",
       "      <td>9.42</td>\n",
       "    </tr>\n",
       "    <tr>\n",
       "      <th>d1_platelets_min</th>\n",
       "      <td>9.20</td>\n",
       "    </tr>\n",
       "    <tr>\n",
       "      <th>d1_platelets_max</th>\n",
       "      <td>9.20</td>\n",
       "    </tr>\n",
       "    <tr>\n",
       "      <th>d1_wbc_max</th>\n",
       "      <td>8.29</td>\n",
       "    </tr>\n",
       "    <tr>\n",
       "      <th>d1_wbc_min</th>\n",
       "      <td>8.29</td>\n",
       "    </tr>\n",
       "    <tr>\n",
       "      <th>h1_diasbp_noninvasive_min</th>\n",
       "      <td>7.95</td>\n",
       "    </tr>\n",
       "    <tr>\n",
       "      <th>h1_diasbp_noninvasive_max</th>\n",
       "      <td>7.95</td>\n",
       "    </tr>\n",
       "    <tr>\n",
       "      <th>h1_sysbp_noninvasive_max</th>\n",
       "      <td>7.94</td>\n",
       "    </tr>\n",
       "    <tr>\n",
       "      <th>h1_sysbp_noninvasive_min</th>\n",
       "      <td>7.94</td>\n",
       "    </tr>\n",
       "    <tr>\n",
       "      <th>d1_calcium_max</th>\n",
       "      <td>7.60</td>\n",
       "    </tr>\n",
       "    <tr>\n",
       "      <th>d1_calcium_min</th>\n",
       "      <td>7.60</td>\n",
       "    </tr>\n",
       "    <tr>\n",
       "      <th>d1_hemaglobin_max</th>\n",
       "      <td>7.38</td>\n",
       "    </tr>\n",
       "    <tr>\n",
       "      <th>d1_hemaglobin_min</th>\n",
       "      <td>7.38</td>\n",
       "    </tr>\n",
       "    <tr>\n",
       "      <th>glucose_apache</th>\n",
       "      <td>6.92</td>\n",
       "    </tr>\n",
       "    <tr>\n",
       "      <th>d1_hematocrit_min</th>\n",
       "      <td>6.88</td>\n",
       "    </tr>\n",
       "    <tr>\n",
       "      <th>d1_hematocrit_max</th>\n",
       "      <td>6.88</td>\n",
       "    </tr>\n",
       "    <tr>\n",
       "      <th>d1_bun_min</th>\n",
       "      <td>5.26</td>\n",
       "    </tr>\n",
       "    <tr>\n",
       "      <th>d1_bun_max</th>\n",
       "      <td>5.26</td>\n",
       "    </tr>\n",
       "    <tr>\n",
       "      <th>d1_creatinine_min</th>\n",
       "      <td>4.92</td>\n",
       "    </tr>\n",
       "    <tr>\n",
       "      <th>d1_creatinine_max</th>\n",
       "      <td>4.92</td>\n",
       "    </tr>\n",
       "    <tr>\n",
       "      <th>d1_sodium_max</th>\n",
       "      <td>4.92</td>\n",
       "    </tr>\n",
       "    <tr>\n",
       "      <th>d1_sodium_min</th>\n",
       "      <td>4.92</td>\n",
       "    </tr>\n",
       "    <tr>\n",
       "      <th>temp_apache</th>\n",
       "      <td>4.61</td>\n",
       "    </tr>\n",
       "    <tr>\n",
       "      <th>d1_potassium_min</th>\n",
       "      <td>4.46</td>\n",
       "    </tr>\n",
       "    <tr>\n",
       "      <th>d1_potassium_max</th>\n",
       "      <td>4.46</td>\n",
       "    </tr>\n",
       "    <tr>\n",
       "      <th>h1_resprate_min</th>\n",
       "      <td>4.11</td>\n",
       "    </tr>\n",
       "    <tr>\n",
       "      <th>h1_resprate_max</th>\n",
       "      <td>4.11</td>\n",
       "    </tr>\n",
       "    <tr>\n",
       "      <th>h1_mbp_min</th>\n",
       "      <td>4.07</td>\n",
       "    </tr>\n",
       "    <tr>\n",
       "      <th>h1_mbp_max</th>\n",
       "      <td>4.07</td>\n",
       "    </tr>\n",
       "    <tr>\n",
       "      <th>h1_spo2_min</th>\n",
       "      <td>3.98</td>\n",
       "    </tr>\n",
       "    <tr>\n",
       "      <th>h1_spo2_max</th>\n",
       "      <td>3.98</td>\n",
       "    </tr>\n",
       "    <tr>\n",
       "      <th>age</th>\n",
       "      <td>3.70</td>\n",
       "    </tr>\n",
       "    <tr>\n",
       "      <th>h1_diasbp_min</th>\n",
       "      <td>3.36</td>\n",
       "    </tr>\n",
       "    <tr>\n",
       "      <th>h1_diasbp_max</th>\n",
       "      <td>3.36</td>\n",
       "    </tr>\n",
       "    <tr>\n",
       "      <th>h1_sysbp_max</th>\n",
       "      <td>3.35</td>\n",
       "    </tr>\n",
       "    <tr>\n",
       "      <th>h1_sysbp_min</th>\n",
       "      <td>3.35</td>\n",
       "    </tr>\n",
       "    <tr>\n",
       "      <th>bmi</th>\n",
       "      <td>3.10</td>\n",
       "    </tr>\n",
       "    <tr>\n",
       "      <th>d1_temp_max</th>\n",
       "      <td>3.05</td>\n",
       "    </tr>\n",
       "    <tr>\n",
       "      <th>d1_temp_min</th>\n",
       "      <td>3.05</td>\n",
       "    </tr>\n",
       "    <tr>\n",
       "      <th>weight</th>\n",
       "      <td>2.38</td>\n",
       "    </tr>\n",
       "    <tr>\n",
       "      <th>h1_heartrate_min</th>\n",
       "      <td>2.36</td>\n",
       "    </tr>\n",
       "    <tr>\n",
       "      <th>h1_heartrate_max</th>\n",
       "      <td>2.36</td>\n",
       "    </tr>\n",
       "    <tr>\n",
       "      <th>d1_glucose_max</th>\n",
       "      <td>1.99</td>\n",
       "    </tr>\n",
       "    <tr>\n",
       "      <th>d1_glucose_min</th>\n",
       "      <td>1.99</td>\n",
       "    </tr>\n",
       "    <tr>\n",
       "      <th>gcs_eyes_apache</th>\n",
       "      <td>1.51</td>\n",
       "    </tr>\n",
       "    <tr>\n",
       "      <th>gcs_motor_apache</th>\n",
       "      <td>1.51</td>\n",
       "    </tr>\n",
       "    <tr>\n",
       "      <th>gcs_verbal_apache</th>\n",
       "      <td>1.51</td>\n",
       "    </tr>\n",
       "    <tr>\n",
       "      <th>d1_mbp_noninvasive_min</th>\n",
       "      <td>1.46</td>\n",
       "    </tr>\n",
       "    <tr>\n",
       "      <th>d1_mbp_noninvasive_max</th>\n",
       "      <td>1.46</td>\n",
       "    </tr>\n",
       "    <tr>\n",
       "      <th>height</th>\n",
       "      <td>1.32</td>\n",
       "    </tr>\n",
       "    <tr>\n",
       "      <th>ethnicity</th>\n",
       "      <td>1.08</td>\n",
       "    </tr>\n",
       "    <tr>\n",
       "      <th>apache_2_diagnosis</th>\n",
       "      <td>1.03</td>\n",
       "    </tr>\n",
       "    <tr>\n",
       "      <th>d1_diasbp_noninvasive_min</th>\n",
       "      <td>1.01</td>\n",
       "    </tr>\n",
       "    <tr>\n",
       "      <th>d1_diasbp_noninvasive_max</th>\n",
       "      <td>1.01</td>\n",
       "    </tr>\n",
       "    <tr>\n",
       "      <th>d1_sysbp_noninvasive_max</th>\n",
       "      <td>1.00</td>\n",
       "    </tr>\n",
       "    <tr>\n",
       "      <th>d1_sysbp_noninvasive_min</th>\n",
       "      <td>1.00</td>\n",
       "    </tr>\n",
       "    <tr>\n",
       "      <th>apache_3j_diagnosis</th>\n",
       "      <td>0.44</td>\n",
       "    </tr>\n",
       "    <tr>\n",
       "      <th>resprate_apache</th>\n",
       "      <td>0.39</td>\n",
       "    </tr>\n",
       "    <tr>\n",
       "      <th>gcs_unable_apache</th>\n",
       "      <td>0.36</td>\n",
       "    </tr>\n",
       "    <tr>\n",
       "      <th>d1_resprate_min</th>\n",
       "      <td>0.30</td>\n",
       "    </tr>\n",
       "    <tr>\n",
       "      <th>d1_resprate_max</th>\n",
       "      <td>0.30</td>\n",
       "    </tr>\n",
       "    <tr>\n",
       "      <th>d1_spo2_min</th>\n",
       "      <td>0.20</td>\n",
       "    </tr>\n",
       "    <tr>\n",
       "      <th>d1_spo2_max</th>\n",
       "      <td>0.20</td>\n",
       "    </tr>\n",
       "    <tr>\n",
       "      <th>icu_admit_source</th>\n",
       "      <td>0.13</td>\n",
       "    </tr>\n",
       "    <tr>\n",
       "      <th>map_apache</th>\n",
       "      <td>0.09</td>\n",
       "    </tr>\n",
       "    <tr>\n",
       "      <th>heart_rate_apache</th>\n",
       "      <td>0.05</td>\n",
       "    </tr>\n",
       "    <tr>\n",
       "      <th>d1_mbp_max</th>\n",
       "      <td>0.04</td>\n",
       "    </tr>\n",
       "    <tr>\n",
       "      <th>d1_mbp_min</th>\n",
       "      <td>0.04</td>\n",
       "    </tr>\n",
       "    <tr>\n",
       "      <th>d1_heartrate_min</th>\n",
       "      <td>0.02</td>\n",
       "    </tr>\n",
       "    <tr>\n",
       "      <th>gender</th>\n",
       "      <td>0.02</td>\n",
       "    </tr>\n",
       "    <tr>\n",
       "      <th>d1_sysbp_max</th>\n",
       "      <td>0.02</td>\n",
       "    </tr>\n",
       "    <tr>\n",
       "      <th>d1_heartrate_max</th>\n",
       "      <td>0.02</td>\n",
       "    </tr>\n",
       "    <tr>\n",
       "      <th>d1_diasbp_min</th>\n",
       "      <td>0.02</td>\n",
       "    </tr>\n",
       "    <tr>\n",
       "      <th>d1_sysbp_min</th>\n",
       "      <td>0.02</td>\n",
       "    </tr>\n",
       "    <tr>\n",
       "      <th>d1_diasbp_max</th>\n",
       "      <td>0.02</td>\n",
       "    </tr>\n",
       "    <tr>\n",
       "      <th>hepatic_failure</th>\n",
       "      <td>0.00</td>\n",
       "    </tr>\n",
       "    <tr>\n",
       "      <th>ventilated_apache</th>\n",
       "      <td>0.00</td>\n",
       "    </tr>\n",
       "    <tr>\n",
       "      <th>leukemia</th>\n",
       "      <td>0.00</td>\n",
       "    </tr>\n",
       "    <tr>\n",
       "      <th>immunosuppression</th>\n",
       "      <td>0.00</td>\n",
       "    </tr>\n",
       "    <tr>\n",
       "      <th>aids</th>\n",
       "      <td>0.00</td>\n",
       "    </tr>\n",
       "    <tr>\n",
       "      <th>lymphoma</th>\n",
       "      <td>0.00</td>\n",
       "    </tr>\n",
       "    <tr>\n",
       "      <th>solid_tumor_with_metastasis</th>\n",
       "      <td>0.00</td>\n",
       "    </tr>\n",
       "    <tr>\n",
       "      <th>cirrhosis</th>\n",
       "      <td>0.00</td>\n",
       "    </tr>\n",
       "    <tr>\n",
       "      <th>pre_icu_los_days</th>\n",
       "      <td>0.00</td>\n",
       "    </tr>\n",
       "    <tr>\n",
       "      <th>elective_surgery</th>\n",
       "      <td>0.00</td>\n",
       "    </tr>\n",
       "    <tr>\n",
       "      <th>icu_stay_type</th>\n",
       "      <td>0.00</td>\n",
       "    </tr>\n",
       "    <tr>\n",
       "      <th>icu_type</th>\n",
       "      <td>0.00</td>\n",
       "    </tr>\n",
       "    <tr>\n",
       "      <th>apache_post_operative</th>\n",
       "      <td>0.00</td>\n",
       "    </tr>\n",
       "    <tr>\n",
       "      <th>arf_apache</th>\n",
       "      <td>0.00</td>\n",
       "    </tr>\n",
       "    <tr>\n",
       "      <th>intubated_apache</th>\n",
       "      <td>0.00</td>\n",
       "    </tr>\n",
       "    <tr>\n",
       "      <th>diabetes_mellitus</th>\n",
       "      <td>0.00</td>\n",
       "    </tr>\n",
       "  </tbody>\n",
       "</table>\n",
       "</div>"
      ],
      "text/plain": [
       "                             percentage\n",
       "h1_temp_max                       21.74\n",
       "h1_temp_min                       21.74\n",
       "wbc_apache                        18.01\n",
       "hematocrit_apache                 15.86\n",
       "bun_apache                        14.66\n",
       "creatinine_apache                 14.26\n",
       "sodium_apache                     13.97\n",
       "d1_hco3_min                       10.38\n",
       "d1_hco3_max                       10.38\n",
       "h1_mbp_noninvasive_min             9.42\n",
       "h1_mbp_noninvasive_max             9.42\n",
       "d1_platelets_min                   9.20\n",
       "d1_platelets_max                   9.20\n",
       "d1_wbc_max                         8.29\n",
       "d1_wbc_min                         8.29\n",
       "h1_diasbp_noninvasive_min          7.95\n",
       "h1_diasbp_noninvasive_max          7.95\n",
       "h1_sysbp_noninvasive_max           7.94\n",
       "h1_sysbp_noninvasive_min           7.94\n",
       "d1_calcium_max                     7.60\n",
       "d1_calcium_min                     7.60\n",
       "d1_hemaglobin_max                  7.38\n",
       "d1_hemaglobin_min                  7.38\n",
       "glucose_apache                     6.92\n",
       "d1_hematocrit_min                  6.88\n",
       "d1_hematocrit_max                  6.88\n",
       "d1_bun_min                         5.26\n",
       "d1_bun_max                         5.26\n",
       "d1_creatinine_min                  4.92\n",
       "d1_creatinine_max                  4.92\n",
       "d1_sodium_max                      4.92\n",
       "d1_sodium_min                      4.92\n",
       "temp_apache                        4.61\n",
       "d1_potassium_min                   4.46\n",
       "d1_potassium_max                   4.46\n",
       "h1_resprate_min                    4.11\n",
       "h1_resprate_max                    4.11\n",
       "h1_mbp_min                         4.07\n",
       "h1_mbp_max                         4.07\n",
       "h1_spo2_min                        3.98\n",
       "h1_spo2_max                        3.98\n",
       "age                                3.70\n",
       "h1_diasbp_min                      3.36\n",
       "h1_diasbp_max                      3.36\n",
       "h1_sysbp_max                       3.35\n",
       "h1_sysbp_min                       3.35\n",
       "bmi                                3.10\n",
       "d1_temp_max                        3.05\n",
       "d1_temp_min                        3.05\n",
       "weight                             2.38\n",
       "h1_heartrate_min                   2.36\n",
       "h1_heartrate_max                   2.36\n",
       "d1_glucose_max                     1.99\n",
       "d1_glucose_min                     1.99\n",
       "gcs_eyes_apache                    1.51\n",
       "gcs_motor_apache                   1.51\n",
       "gcs_verbal_apache                  1.51\n",
       "d1_mbp_noninvasive_min             1.46\n",
       "d1_mbp_noninvasive_max             1.46\n",
       "height                             1.32\n",
       "ethnicity                          1.08\n",
       "apache_2_diagnosis                 1.03\n",
       "d1_diasbp_noninvasive_min          1.01\n",
       "d1_diasbp_noninvasive_max          1.01\n",
       "d1_sysbp_noninvasive_max           1.00\n",
       "d1_sysbp_noninvasive_min           1.00\n",
       "apache_3j_diagnosis                0.44\n",
       "resprate_apache                    0.39\n",
       "gcs_unable_apache                  0.36\n",
       "d1_resprate_min                    0.30\n",
       "d1_resprate_max                    0.30\n",
       "d1_spo2_min                        0.20\n",
       "d1_spo2_max                        0.20\n",
       "icu_admit_source                   0.13\n",
       "map_apache                         0.09\n",
       "heart_rate_apache                  0.05\n",
       "d1_mbp_max                         0.04\n",
       "d1_mbp_min                         0.04\n",
       "d1_heartrate_min                   0.02\n",
       "gender                             0.02\n",
       "d1_sysbp_max                       0.02\n",
       "d1_heartrate_max                   0.02\n",
       "d1_diasbp_min                      0.02\n",
       "d1_sysbp_min                       0.02\n",
       "d1_diasbp_max                      0.02\n",
       "hepatic_failure                    0.00\n",
       "ventilated_apache                  0.00\n",
       "leukemia                           0.00\n",
       "immunosuppression                  0.00\n",
       "aids                               0.00\n",
       "lymphoma                           0.00\n",
       "solid_tumor_with_metastasis        0.00\n",
       "cirrhosis                          0.00\n",
       "pre_icu_los_days                   0.00\n",
       "elective_surgery                   0.00\n",
       "icu_stay_type                      0.00\n",
       "icu_type                           0.00\n",
       "apache_post_operative              0.00\n",
       "arf_apache                         0.00\n",
       "intubated_apache                   0.00\n",
       "diabetes_mellitus                  0.00"
      ]
     },
     "execution_count": 21,
     "metadata": {},
     "output_type": "execute_result"
    }
   ],
   "source": [
    "null_values.sort_values('percentage',ascending=False)"
   ]
  },
  {
   "cell_type": "code",
   "execution_count": 48,
   "metadata": {},
   "outputs": [],
   "source": [
    "# Drop rows with missing age\n",
    "df.dropna(subset=['age'],inplace=True)"
   ]
  },
  {
   "cell_type": "code",
   "execution_count": 49,
   "metadata": {},
   "outputs": [
    {
     "data": {
      "text/plain": [
       "468191"
      ]
     },
     "execution_count": 49,
     "metadata": {},
     "output_type": "execute_result"
    }
   ],
   "source": [
    "df.isnull().sum().sum()"
   ]
  },
  {
   "cell_type": "code",
   "execution_count": 24,
   "metadata": {},
   "outputs": [],
   "source": [
    "#df.columns.values.tolist()"
   ]
  },
  {
   "cell_type": "code",
   "execution_count": 25,
   "metadata": {},
   "outputs": [],
   "source": [
    "#df.dtypes"
   ]
  },
  {
   "cell_type": "markdown",
   "metadata": {},
   "source": [
    "### Analyze missing data for patterns"
   ]
  },
  {
   "cell_type": "code",
   "execution_count": 50,
   "metadata": {},
   "outputs": [
    {
     "data": {
      "text/plain": [
       "<matplotlib.axes._subplots.AxesSubplot at 0x201bbdba6d0>"
      ]
     },
     "execution_count": 50,
     "metadata": {},
     "output_type": "execute_result"
    },
    {
     "data": {
      "image/png": "[encoded data removed]",
      "text/plain": [
       "<Figure size 1800x720 with 2 Axes>"
      ]
     },
     "metadata": {
      "needs_background": "light"
     },
     "output_type": "display_data"
    }
   ],
   "source": [
    "msno.matrix(df)"
   ]
  },
  {
   "cell_type": "code",
   "execution_count": 27,
   "metadata": {},
   "outputs": [
    {
     "data": {
      "text/plain": [
       "<matplotlib.axes._subplots.AxesSubplot at 0x201b86ee310>"
      ]
     },
     "execution_count": 27,
     "metadata": {},
     "output_type": "execute_result"
    },
    {
     "data": {
      "image/png": "[encoded data removed]",
      "text/plain": [
       "<Figure size 1728x720 with 2 Axes>"
      ]
     },
     "metadata": {
      "needs_background": "light"
     },
     "output_type": "display_data"
    }
   ],
   "source": [
    "msno.bar(df) "
   ]
  },
  {
   "cell_type": "markdown",
   "metadata": {},
   "source": [
    "## Check the distribution of target variable"
   ]
  },
  {
   "cell_type": "code",
   "execution_count": 30,
   "metadata": {},
   "outputs": [
    {
     "data": {
      "text/plain": [
       "0    0.774136\n",
       "1    0.225864\n",
       "Name: diabetes_mellitus, dtype: float64"
      ]
     },
     "execution_count": 30,
     "metadata": {},
     "output_type": "execute_result"
    }
   ],
   "source": [
    "# Check distribution of the target variable. \n",
    "df['diabetes_mellitus'].value_counts(normalize=True)"
   ]
  },
  {
   "cell_type": "code",
   "execution_count": 31,
   "metadata": {},
   "outputs": [
    {
     "data": {
      "text/plain": [
       "<matplotlib.axes._subplots.AxesSubplot at 0x2019cb051f0>"
      ]
     },
     "execution_count": 31,
     "metadata": {},
     "output_type": "execute_result"
    },
    {
     "data": {
      "image/png": "[encoded data removed]",
      "text/plain": [
       "<Figure size 432x288 with 1 Axes>"
      ]
     },
     "metadata": {
      "needs_background": "light"
     },
     "output_type": "display_data"
    }
   ],
   "source": [
    "sns.countplot(x='diabetes_mellitus',data=df)"
   ]
  },
  {
   "cell_type": "markdown",
   "metadata": {},
   "source": [
    "The dataset is highly imbalanced with 77.4% negative observation and only 22.5% positive observation."
   ]
  },
  {
   "cell_type": "markdown",
   "metadata": {},
   "source": [
    "### Analyze other attributes"
   ]
  },
  {
   "cell_type": "code",
   "execution_count": 32,
   "metadata": {},
   "outputs": [
    {
     "data": {
      "image/png": "[encoded data removed]",
      "text/plain": [
       "<Figure size 1800x1440 with 100 Axes>"
      ]
     },
     "metadata": {
      "needs_background": "light"
     },
     "output_type": "display_data"
    }
   ],
   "source": [
    "# Distrubtion of other attributes\n",
    "df.hist(figsize=(25,20))\n",
    "plt.subplots_adjust(hspace=0.8)\n",
    "plt.show()"
   ]
  },
  {
   "cell_type": "code",
   "execution_count": 33,
   "metadata": {},
   "outputs": [
    {
     "data": {
      "image/png": "[encoded data removed]",
      "text/plain": [
       "<Figure size 432x432 with 1 Axes>"
      ]
     },
     "metadata": {
      "needs_background": "light"
     },
     "output_type": "display_data"
    }
   ],
   "source": [
    "# Let's look at age, bmi, weight and height\n",
    "plt.figure(figsize=(6, 6))\n",
    "sns.boxplot(data=df[['age','bmi','weight','height']])\n",
    "plt.show()"
   ]
  },
  {
   "cell_type": "code",
   "execution_count": 64,
   "metadata": {},
   "outputs": [],
   "source": [
    "#df.columns.values.tolist()"
   ]
  },
  {
   "cell_type": "markdown",
   "metadata": {},
   "source": [
    "# Univariate Analysis"
   ]
  },
  {
   "cell_type": "code",
   "execution_count": 68,
   "metadata": {},
   "outputs": [
    {
     "data": {
      "text/plain": [
       "<matplotlib.axes._subplots.AxesSubplot at 0x201bb110190>"
      ]
     },
     "execution_count": 68,
     "metadata": {},
     "output_type": "execute_result"
    },
    {
     "data": {
      "image/png": "[encoded data removed]",
      "text/plain": [
       "<Figure size 864x432 with 1 Axes>"
      ]
     },
     "metadata": {
      "needs_background": "light"
     },
     "output_type": "display_data"
    }
   ],
   "source": [
    "# Lets look at ethnicity\n",
    "target = 'ethnicity'\n",
    "descending_order = df[target].value_counts(normalize=True).sort_values(ascending=False).index\n",
    "\n",
    "plt.figure(figsize=(12,6))\n",
    "sns.countplot(data=df,y=target,order=descending_order,hue='diabetes_mellitus')"
   ]
  },
  {
   "cell_type": "code",
   "execution_count": 36,
   "metadata": {},
   "outputs": [
    {
     "data": {
      "text/plain": [
       "Caucasian           0.775782\n",
       "African American    0.110201\n",
       "Other/Unknown       0.049752\n",
       "Hispanic            0.039569\n",
       "Asian               0.017211\n",
       "Native American     0.007484\n",
       "Name: ethnicity, dtype: float64"
      ]
     },
     "execution_count": 36,
     "metadata": {},
     "output_type": "execute_result"
    }
   ],
   "source": [
    "df['ethnicity'].value_counts(normalize=True)"
   ]
  },
  {
   "cell_type": "code",
   "execution_count": 76,
   "metadata": {},
   "outputs": [
    {
     "data": {
      "image/png": "[encoded data removed]",
      "text/plain": [
       "<Figure size 720x360 with 1 Axes>"
      ]
     },
     "metadata": {
      "needs_background": "light"
     },
     "output_type": "display_data"
    }
   ],
   "source": [
    "# Let's look at gender\n",
    "plt.figure(figsize=(10,5))\n",
    "total = float(len(df))\n",
    "ax = sns.countplot(x=\"gender\", hue=\"diabetes_mellitus\", data=df)\n",
    "plt.title('Target distribution by gender', fontsize=20)\n",
    "for p in ax.patches:\n",
    "    percentage = '{:.1f}%'.format(100 * p.get_height()/total)\n",
    "    x = p.get_x() + p.get_width()\n",
    "    y = p.get_height()\n",
    "    ax.annotate(percentage, (x, y),ha='center')\n",
    "plt.show()"
   ]
  },
  {
   "cell_type": "code",
   "execution_count": 74,
   "metadata": {},
   "outputs": [
    {
     "data": {
      "text/plain": [
       "<matplotlib.axes._subplots.AxesSubplot at 0x201bb056d90>"
      ]
     },
     "execution_count": 74,
     "metadata": {},
     "output_type": "execute_result"
    },
    {
     "data": {
      "image/png": "[encoded data removed]",
      "text/plain": [
       "<Figure size 720x432 with 1 Axes>"
      ]
     },
     "metadata": {
      "needs_background": "light"
     },
     "output_type": "display_data"
    }
   ],
   "source": [
    "# Let's look at icu_admit_source\n",
    "target = 'icu_admit_source'\n",
    "descending_order = df['icu_admit_source'].value_counts(normalize=True).sort_values(ascending=False).index\n",
    "\n",
    "plt.figure(figsize=(10,6))\n",
    "sns.countplot(data=df,y=target,order=descending_order,hue='diabetes_mellitus')"
   ]
  },
  {
   "cell_type": "code",
   "execution_count": 79,
   "metadata": {},
   "outputs": [
    {
     "data": {
      "text/plain": [
       "<matplotlib.axes._subplots.AxesSubplot at 0x201c8b9abe0>"
      ]
     },
     "execution_count": 79,
     "metadata": {},
     "output_type": "execute_result"
    },
    {
     "data": {
      "image/png": "[encoded data removed]",
      "text/plain": [
       "<Figure size 720x432 with 1 Axes>"
      ]
     },
     "metadata": {
      "needs_background": "light"
     },
     "output_type": "display_data"
    }
   ],
   "source": [
    "# Let's look at icu_stay_type\n",
    "target = 'icu_stay_type'\n",
    "descending_order = df['icu_stay_type'].value_counts(normalize=True).sort_values(ascending=False).index\n",
    "plt.figure(figsize=(10,6))\n",
    "sns.countplot(data=df,y=target,order=descending_order,hue='diabetes_mellitus')"
   ]
  },
  {
   "cell_type": "code",
   "execution_count": 80,
   "metadata": {},
   "outputs": [
    {
     "data": {
      "text/plain": [
       "<matplotlib.axes._subplots.AxesSubplot at 0x2019cb50280>"
      ]
     },
     "execution_count": 80,
     "metadata": {},
     "output_type": "execute_result"
    },
    {
     "data": {
      "image/png": "[encoded data removed]",
      "text/plain": [
       "<Figure size 720x432 with 1 Axes>"
      ]
     },
     "metadata": {
      "needs_background": "light"
     },
     "output_type": "display_data"
    }
   ],
   "source": [
    "# Let's look at icu_type\n",
    "target = 'icu_type'\n",
    "descending_order = df['icu_type'].value_counts(normalize=True).sort_values(ascending=False).index\n",
    "plt.figure(figsize=(10,6))\n",
    "sns.countplot(data=df,y=target,order=descending_order,hue='diabetes_mellitus')"
   ]
  },
  {
   "cell_type": "markdown",
   "metadata": {},
   "source": [
    "# Let's look at the Correlation between numeric variables and the target"
   ]
  },
  {
   "cell_type": "code",
   "execution_count": 82,
   "metadata": {},
   "outputs": [
    {
     "name": "stdout",
     "output_type": "stream",
     "text": [
      "age : 0.07726126136280596\n",
      "bmi : 0.16767308986030172\n",
      "elective_surgery : -0.007554111934714795\n",
      "height : -0.009316944782438918\n",
      "pre_icu_los_days : 0.020718413133994765\n",
      "weight : 0.1529814638044675\n",
      "apache_2_diagnosis : 0.0033460769972132433\n",
      "apache_3j_diagnosis : -0.01172257060690416\n",
      "apache_post_operative : -0.015061638364431331\n",
      "arf_apache : 0.10973556354358585\n",
      "bun_apache : 0.1517307429458797\n",
      "creatinine_apache : 0.12618209907233696\n",
      "gcs_eyes_apache : 0.02943855767280367\n",
      "gcs_motor_apache : 0.028269220390793905\n",
      "gcs_unable_apache : -0.014374287229467571\n",
      "gcs_verbal_apache : 0.0257878845716034\n",
      "glucose_apache : 0.35543194395895333\n",
      "heart_rate_apache : -0.022255400181577987\n",
      "hematocrit_apache : -0.0551532547458927\n",
      "intubated_apache : -0.00795278998826811\n",
      "map_apache : 0.0016546128468345692\n",
      "resprate_apache : -0.00757207478471187\n",
      "sodium_apache : -0.041770015986967\n",
      "temp_apache : -0.00576800752472729\n",
      "ventilated_apache : 0.0027009864965081036\n",
      "wbc_apache : 0.0062653865503009346\n",
      "d1_diasbp_max : -0.01775754299270031\n",
      "d1_diasbp_min : -0.051981158156426864\n",
      "d1_diasbp_noninvasive_max : -0.016639502413931345\n",
      "d1_diasbp_noninvasive_min : -0.05124454336786213\n",
      "d1_heartrate_max : -0.03104767388652923\n",
      "d1_heartrate_min : 0.015187779206905994\n",
      "d1_mbp_max : 0.019242911679940466\n",
      "d1_mbp_min : -0.017365000981795428\n",
      "d1_mbp_noninvasive_max : 0.0201308373775251\n",
      "d1_mbp_noninvasive_min : -0.016319479633752645\n",
      "d1_resprate_max : 0.004492625001354103\n",
      "d1_resprate_min : -0.020840724902917787\n",
      "d1_spo2_max : 0.0110088291752051\n",
      "d1_spo2_min : 0.004701394049518289\n",
      "d1_sysbp_max : 0.07416437687746956\n",
      "d1_sysbp_min : 0.030711602136282597\n",
      "d1_sysbp_noninvasive_max : 0.07434026244848063\n",
      "d1_sysbp_noninvasive_min : 0.030699391068068408\n",
      "d1_temp_max : -0.016130859307699322\n",
      "d1_temp_min : -0.004165149288157484\n",
      "h1_diasbp_max : -0.046470953119954236\n",
      "h1_diasbp_min : -0.06296790760445038\n",
      "h1_diasbp_noninvasive_max : -0.043492332352320175\n",
      "h1_diasbp_noninvasive_min : -0.06118599320753069\n",
      "h1_heartrate_max : -0.015813062646237837\n",
      "h1_heartrate_min : -0.003062828505880641\n",
      "h1_mbp_max : -0.005926023347032225\n",
      "h1_mbp_min : -0.022566320569264386\n",
      "h1_mbp_noninvasive_max : -0.003956294680691517\n",
      "h1_mbp_noninvasive_min : -0.019017695920638324\n",
      "h1_resprate_max : 0.002568601124372298\n",
      "h1_resprate_min : -0.004204871608584618\n",
      "h1_spo2_max : 0.015364673357541636\n",
      "h1_spo2_min : -0.00016821779573800936\n",
      "h1_sysbp_max : 0.048871155928884275\n",
      "h1_sysbp_min : 0.030480203968735877\n",
      "h1_sysbp_noninvasive_max : 0.0492341173675639\n",
      "h1_sysbp_noninvasive_min : 0.03254269480058473\n",
      "h1_temp_max : -0.008260865061711017\n",
      "h1_temp_min : -0.008466783988262712\n",
      "d1_bun_max : 0.15345846893970894\n",
      "d1_bun_min : 0.14442315272470543\n",
      "d1_calcium_max : 0.04543677206806083\n",
      "d1_calcium_min : 0.024775607946492705\n",
      "d1_creatinine_max : 0.12935504742130324\n",
      "d1_creatinine_min : 0.1278104067543613\n",
      "d1_glucose_max : 0.4017418521546842\n",
      "d1_glucose_min : 0.13567073160551305\n",
      "d1_hco3_max : -0.00984269427712534\n",
      "d1_hco3_min : -0.049976377279987105\n",
      "d1_hemaglobin_max : -0.0824370021199704\n",
      "d1_hemaglobin_min : -0.0647596276304197\n",
      "d1_hematocrit_max : -0.07022618333545128\n",
      "d1_hematocrit_min : -0.054825686184141395\n",
      "d1_platelets_max : 0.022533012519853055\n",
      "d1_platelets_min : 0.024386462377226397\n",
      "d1_potassium_max : 0.09809764237377347\n",
      "d1_potassium_min : 0.03989394047217458\n",
      "d1_sodium_max : -0.01773081434132897\n",
      "d1_sodium_min : -0.05068568672256091\n",
      "d1_wbc_max : 0.005795891694399951\n",
      "d1_wbc_min : 0.011445164496549996\n",
      "aids : -0.01132935820131193\n",
      "cirrhosis : 0.012218109194569896\n",
      "hepatic_failure : 0.0075560876344352695\n",
      "immunosuppression : -0.005136125210135603\n",
      "leukemia : 0.003304228836772788\n",
      "lymphoma : -0.0007433163371042593\n",
      "solid_tumor_with_metastasis : -0.014576579488296623\n"
     ]
    }
   ],
   "source": [
    "# Correlation between numeric variables and Diabetes Mellitus\n",
    "# convert and sort \n",
    "for n in num_cols:\n",
    "    column_1 = df[n]\n",
    "    column_2 = df[\"diabetes_mellitus\"]\n",
    "    correlation = column_1. corr(column_2)\n",
    "    print(n + \" :\",correlation)"
   ]
  },
  {
   "cell_type": "markdown",
   "metadata": {},
   "source": [
    "# Convert Categorical variables"
   ]
  },
  {
   "cell_type": "code",
   "execution_count": 83,
   "metadata": {},
   "outputs": [
    {
     "data": {
      "text/plain": [
       "1277"
      ]
     },
     "execution_count": 83,
     "metadata": {},
     "output_type": "execute_result"
    }
   ],
   "source": [
    "# Check null values for ethnicity\n",
    "df['ethnicity'].isnull().sum()"
   ]
  },
  {
   "cell_type": "code",
   "execution_count": 84,
   "metadata": {},
   "outputs": [],
   "source": [
    "# Drop rows with missing ethnicity\n",
    "df.dropna(subset=['ethnicity'],inplace=True)"
   ]
  },
  {
   "cell_type": "code",
   "execution_count": 85,
   "metadata": {},
   "outputs": [
    {
     "data": {
      "text/plain": [
       "0    0.775782\n",
       "1    0.110201\n",
       "2    0.049752\n",
       "3    0.039569\n",
       "4    0.017211\n",
       "5    0.007484\n",
       "Name: ethnicity, dtype: float64"
      ]
     },
     "execution_count": 85,
     "metadata": {},
     "output_type": "execute_result"
    }
   ],
   "source": [
    "# replace the Ethinicity with numeric values\n",
    "df['ethnicity'].replace({'Caucasian': 0,\n",
    "                         'African American': 1,\n",
    "                         'Other/Unknown':2,\n",
    "                         'Hispanic':3,'Asian':4,\n",
    "                         'Native American':'5'}, inplace=True)\n",
    "df['ethnicity'].value_counts(normalize=True)"
   ]
  },
  {
   "cell_type": "code",
   "execution_count": 86,
   "metadata": {},
   "outputs": [],
   "source": [
    "df['ethnicity'] = df['ethnicity'].astype('int')"
   ]
  },
  {
   "cell_type": "code",
   "execution_count": 87,
   "metadata": {},
   "outputs": [
    {
     "name": "stdout",
     "output_type": "stream",
     "text": [
      "0.04409868555136295\n"
     ]
    }
   ],
   "source": [
    "# Correlation between ethinicity and Diabetes Mellitus\n",
    "column_1 = df[\"ethnicity\"]\n",
    "column_2 = df[\"diabetes_mellitus\"]\n",
    "correlation = column_1. corr(column_2)\n",
    "print(correlation)"
   ]
  },
  {
   "cell_type": "code",
   "execution_count": 94,
   "metadata": {},
   "outputs": [
    {
     "data": {
      "text/plain": [
       "0    0.54949\n",
       "1    0.45051\n",
       "Name: gender, dtype: float64"
      ]
     },
     "execution_count": 94,
     "metadata": {},
     "output_type": "execute_result"
    }
   ],
   "source": [
    "# replace gender with numeric values\n",
    "df['gender'].replace({'M': 0, 'F': 1}, inplace=True)\n",
    "df['gender'].value_counts(normalize=True)"
   ]
  },
  {
   "cell_type": "code",
   "execution_count": 95,
   "metadata": {},
   "outputs": [
    {
     "data": {
      "text/plain": [
       "0"
      ]
     },
     "execution_count": 95,
     "metadata": {},
     "output_type": "execute_result"
    }
   ],
   "source": [
    "df['gender'].isnull().sum()"
   ]
  },
  {
   "cell_type": "code",
   "execution_count": 96,
   "metadata": {},
   "outputs": [],
   "source": [
    "# Drop rows with missing age\n",
    "df.dropna(subset=['gender'],inplace=True)"
   ]
  },
  {
   "cell_type": "code",
   "execution_count": 97,
   "metadata": {},
   "outputs": [],
   "source": [
    "df['gender'] = df['gender'].astype('int')"
   ]
  },
  {
   "cell_type": "code",
   "execution_count": 98,
   "metadata": {},
   "outputs": [
    {
     "name": "stdout",
     "output_type": "stream",
     "text": [
      "-0.001421795319334025\n"
     ]
    }
   ],
   "source": [
    "# Correlation between gender and Diabetes Mellitus\n",
    "column_1 = df[\"gender\"]\n",
    "column_2 = df[\"diabetes_mellitus\"]\n",
    "correlation = column_1. corr(column_2)\n",
    "print(correlation)"
   ]
  }
 ],
 "metadata": {
  "kernelspec": {
   "display_name": "Python 3",
   "language": "python",
   "name": "python3"
  },
  "language_info": {
   "codemirror_mode": {
    "name": "ipython",
    "version": 3
   },
   "file_extension": ".py",
   "mimetype": "text/x-python",
   "name": "python",
   "nbconvert_exporter": "python",
   "pygments_lexer": "ipython3",
   "version": "3.8.3"
  }
 },
 "nbformat": 4,
 "nbformat_minor": 4
}
